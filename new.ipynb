{
 "cells": [
  {
   "cell_type": "code",
   "execution_count": 1,
   "id": "initial_id",
   "metadata": {
    "collapsed": true,
    "ExecuteTime": {
     "end_time": "2024-05-11T18:56:48.543013Z",
     "start_time": "2024-05-11T18:56:47.637105Z"
    }
   },
   "outputs": [
    {
     "name": "stdout",
     "output_type": "stream",
     "text": [
      "Intel MKL WARNING: Support of Intel(R) Streaming SIMD Extensions 4.2 (Intel(R) SSE4.2) enabled only processors has been deprecated. Intel oneAPI Math Kernel Library 2025.0 will require Intel(R) Advanced Vector Extensions (Intel(R) AVX) instructions.\n",
      "Intel MKL WARNING: Support of Intel(R) Streaming SIMD Extensions 4.2 (Intel(R) SSE4.2) enabled only processors has been deprecated. Intel oneAPI Math Kernel Library 2025.0 will require Intel(R) Advanced Vector Extensions (Intel(R) AVX) instructions.\n"
     ]
    }
   ],
   "source": [
    "import pandas as pd"
   ]
  },
  {
   "cell_type": "code",
   "outputs": [],
   "source": [
    "df = pd.read_csv('emailTextsII_input.csv')"
   ],
   "metadata": {
    "collapsed": false,
    "ExecuteTime": {
     "end_time": "2024-05-11T18:57:16.543262Z",
     "start_time": "2024-05-11T18:57:16.511475Z"
    }
   },
   "id": "5095c29afcd6206a",
   "execution_count": 2
  },
  {
   "cell_type": "code",
   "outputs": [
    {
     "data": {
      "text/plain": "     Unnamed: 0   id label                                               text  \\\n0             0    0  Spam  viiiiiiagraaaa\\nonly for the ones that want to...   \n1             1    1   Ham  got ice thought look az original message ice o...   \n2             2    2  Spam  yo ur wom an ne eds an escapenumber in ch ma n...   \n3             3    3  Spam  start increasing your odds of success & live s...   \n4             4    4   Ham  author jra date escapenumber escapenumber esca...   \n..          ...  ...   ...                                                ...   \n495         495  495   Ham  subject wml deadline extended workshop mathema...   \n496         496  496  Spam  agree according to one of our articles 'that t...   \n497         497  497   Ham  please see message kevin sweeney sally per con...   \n498         498  498   Ham  nothing it is a generic folder that has enron ...   \n499         499  499   Ham  steve and dave i just spoke with martha direct...   \n\n                                          introduction  \n0                                                  NaN  \n1                                                  NaN  \n2                                                  NaN  \n3                                                  NaN  \n4    author jra date escapenumber escapenumber esca...  \n..                                                 ...  \n495                                                NaN  \n496                                                NaN  \n497                                                NaN  \n498                                                NaN  \n499                                                NaN  \n\n[500 rows x 5 columns]",
      "text/html": "<div>\n<style scoped>\n    .dataframe tbody tr th:only-of-type {\n        vertical-align: middle;\n    }\n\n    .dataframe tbody tr th {\n        vertical-align: top;\n    }\n\n    .dataframe thead th {\n        text-align: right;\n    }\n</style>\n<table border=\"1\" class=\"dataframe\">\n  <thead>\n    <tr style=\"text-align: right;\">\n      <th></th>\n      <th>Unnamed: 0</th>\n      <th>id</th>\n      <th>label</th>\n      <th>text</th>\n      <th>introduction</th>\n    </tr>\n  </thead>\n  <tbody>\n    <tr>\n      <th>0</th>\n      <td>0</td>\n      <td>0</td>\n      <td>Spam</td>\n      <td>viiiiiiagraaaa\\nonly for the ones that want to...</td>\n      <td>NaN</td>\n    </tr>\n    <tr>\n      <th>1</th>\n      <td>1</td>\n      <td>1</td>\n      <td>Ham</td>\n      <td>got ice thought look az original message ice o...</td>\n      <td>NaN</td>\n    </tr>\n    <tr>\n      <th>2</th>\n      <td>2</td>\n      <td>2</td>\n      <td>Spam</td>\n      <td>yo ur wom an ne eds an escapenumber in ch ma n...</td>\n      <td>NaN</td>\n    </tr>\n    <tr>\n      <th>3</th>\n      <td>3</td>\n      <td>3</td>\n      <td>Spam</td>\n      <td>start increasing your odds of success &amp; live s...</td>\n      <td>NaN</td>\n    </tr>\n    <tr>\n      <th>4</th>\n      <td>4</td>\n      <td>4</td>\n      <td>Ham</td>\n      <td>author jra date escapenumber escapenumber esca...</td>\n      <td>author jra date escapenumber escapenumber esca...</td>\n    </tr>\n    <tr>\n      <th>...</th>\n      <td>...</td>\n      <td>...</td>\n      <td>...</td>\n      <td>...</td>\n      <td>...</td>\n    </tr>\n    <tr>\n      <th>495</th>\n      <td>495</td>\n      <td>495</td>\n      <td>Ham</td>\n      <td>subject wml deadline extended workshop mathema...</td>\n      <td>NaN</td>\n    </tr>\n    <tr>\n      <th>496</th>\n      <td>496</td>\n      <td>496</td>\n      <td>Spam</td>\n      <td>agree according to one of our articles 'that t...</td>\n      <td>NaN</td>\n    </tr>\n    <tr>\n      <th>497</th>\n      <td>497</td>\n      <td>497</td>\n      <td>Ham</td>\n      <td>please see message kevin sweeney sally per con...</td>\n      <td>NaN</td>\n    </tr>\n    <tr>\n      <th>498</th>\n      <td>498</td>\n      <td>498</td>\n      <td>Ham</td>\n      <td>nothing it is a generic folder that has enron ...</td>\n      <td>NaN</td>\n    </tr>\n    <tr>\n      <th>499</th>\n      <td>499</td>\n      <td>499</td>\n      <td>Ham</td>\n      <td>steve and dave i just spoke with martha direct...</td>\n      <td>NaN</td>\n    </tr>\n  </tbody>\n</table>\n<p>500 rows × 5 columns</p>\n</div>"
     },
     "execution_count": 3,
     "metadata": {},
     "output_type": "execute_result"
    }
   ],
   "source": [
    "df"
   ],
   "metadata": {
    "collapsed": false,
    "ExecuteTime": {
     "end_time": "2024-05-11T18:57:18.689744Z",
     "start_time": "2024-05-11T18:57:18.680991Z"
    }
   },
   "id": "a91af05b5630e74c",
   "execution_count": 3
  },
  {
   "cell_type": "code",
   "outputs": [],
   "source": [],
   "metadata": {
    "collapsed": false
   },
   "id": "15173d43cd78b6ec"
  }
 ],
 "metadata": {
  "kernelspec": {
   "display_name": "Python 3",
   "language": "python",
   "name": "python3"
  },
  "language_info": {
   "codemirror_mode": {
    "name": "ipython",
    "version": 2
   },
   "file_extension": ".py",
   "mimetype": "text/x-python",
   "name": "python",
   "nbconvert_exporter": "python",
   "pygments_lexer": "ipython2",
   "version": "2.7.6"
  }
 },
 "nbformat": 4,
 "nbformat_minor": 5
}
